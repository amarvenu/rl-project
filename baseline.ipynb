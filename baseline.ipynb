{
 "cells": [
  {
   "cell_type": "code",
   "execution_count": 34,
   "id": "e582f7ef-62da-4ce0-a83e-c948857421fb",
   "metadata": {},
   "outputs": [],
   "source": [
    "import pandas as pd\n",
    "import numpy as np"
   ]
  },
  {
   "cell_type": "code",
   "execution_count": 35,
   "id": "0413a2ea-918a-4b43-acb1-4b67ff7a239b",
   "metadata": {},
   "outputs": [],
   "source": [
    "df = pd.read_csv('data/data_clean.csv')"
   ]
  },
  {
   "cell_type": "markdown",
   "id": "2b3c595b-8655-45e0-8cd9-0fe7e50acd4c",
   "metadata": {
    "tags": []
   },
   "source": [
    "## 2) Clinical dosing algorithm"
   ]
  },
  {
   "cell_type": "code",
   "execution_count": 51,
   "id": "b68e396c-cd70-4e58-aa0c-04ade546283b",
   "metadata": {},
   "outputs": [],
   "source": [
    "alt = df.copy()\n",
    "\n",
    "alt['Age in decades'] = alt['Age'].apply(lambda x: int(x[0]) if x != 'unknown' else np.nan)\n",
    "\n",
    "alt.loc[alt['Height (cm)'] == 'unknown', 'Height (cm)'] = np.nan\n",
    "alt.loc[alt['Weight (kg)'] == 'unknown', 'Weight (kg)'] = np.nan\n",
    "\n",
    "alt['Asian race'] = alt['Race'].map({'Asian': 1}).fillna(0)\n",
    "alt['Black or African American race'] = alt['Race'].map({'Black or African American': 1}).fillna(0)\n",
    "alt['Missing or mixed race'] = alt['Race'].map({'Unknown': 1}).fillna(0)\n",
    "alt['Enzyme inducer status'] = np.where(\n",
    "    (alt['Carbamazepine (Tegretol)'] == 1) | \n",
    "    (alt['Phenytoin (Dilantin)'] == 1) | \n",
    "    (alt['Rifampin or Rifampicin'] == 1),\n",
    "    1,\n",
    "    0\n",
    ")\n",
    "\n",
    "alt['Amiodarone status'] = alt['Amiodarone (Cordarone)'].map({'1.0': 1}).fillna(0)"
   ]
  },
  {
   "cell_type": "code",
   "execution_count": 52,
   "id": "59c38fd1-44f4-46be-8f26-2fa2b5d2b9fb",
   "metadata": {},
   "outputs": [],
   "source": [
    "alt = alt[[\n",
    "    'Age in decades', 'Height (cm)', 'Weight (kg)', 'Asian race', 'Black or African American race',\n",
    "    'Missing or mixed race', 'Enzyme inducer status', 'Amiodarone status', 'VKORC1_SNP', 'CYP2C9 consensus', 'correct_dosage'\n",
    "]].dropna(how='any').copy()"
   ]
  },
  {
   "cell_type": "code",
   "execution_count": 53,
   "id": "167560f3-f886-4559-aa45-d5e400848a43",
   "metadata": {},
   "outputs": [],
   "source": [
    "alt['sqrt_weekly_dose'] = 4.0376 - 0.2546 * alt['Age in decades'] + 0.0118 * alt['Height (cm)'].astype(float) \\\n",
    "    + 0.0134 * alt['Weight (kg)'].astype(float) - 0.6752 * alt['Asian race'] \\\n",
    "    + 0.4060 * alt['Black or African American race'] + 0.0443 * alt['Missing or mixed race'] \\\n",
    "    + 1.2799 * alt['Enzyme inducer status'] - 0.5695 * alt['Amiodarone status']\n",
    "\n",
    "alt['pred_weekly_dose'] = np.where(\n",
    "    alt['sqrt_weekly_dose'] < np.sqrt(21),\n",
    "    'low',\n",
    "    np.where(\n",
    "        alt['sqrt_weekly_dose'] > np.sqrt(49),\n",
    "        'high',\n",
    "        'medium'\n",
    "    )\n",
    ")"
   ]
  },
  {
   "cell_type": "code",
   "execution_count": 54,
   "id": "c37d9085-7d19-438b-9ef2-97a6502f43a9",
   "metadata": {},
   "outputs": [
    {
     "data": {
      "text/plain": [
       "0.6527587779297765"
      ]
     },
     "execution_count": 54,
     "metadata": {},
     "output_type": "execute_result"
    }
   ],
   "source": [
    "alt.loc[alt['correct_dosage'] == alt['pred_weekly_dose']].shape[0] / alt.shape[0]"
   ]
  },
  {
   "cell_type": "markdown",
   "id": "90dd12f8-bd91-43ff-8c1b-80744c9a417a",
   "metadata": {
    "tags": []
   },
   "source": [
    "## 1) Fixed-dose"
   ]
  },
  {
   "cell_type": "code",
   "execution_count": 55,
   "id": "2a90fa98-652c-43f9-be03-cec5cc67265f",
   "metadata": {},
   "outputs": [
    {
     "data": {
      "text/plain": [
       "0.6158230734154126"
      ]
     },
     "execution_count": 55,
     "metadata": {},
     "output_type": "execute_result"
    }
   ],
   "source": [
    "# accuracy is just the fraction of individuals that are truly medium\n",
    "alt.loc[alt['correct_dosage'] == 'medium'].shape[0] / alt.shape[0]"
   ]
  },
  {
   "cell_type": "markdown",
   "id": "f59f5d6a-c7a8-4bee-982c-5133e912c884",
   "metadata": {},
   "source": [
    "## save down cleaned without nulls\n"
   ]
  },
  {
   "cell_type": "code",
   "execution_count": 58,
   "id": "e3e02ee8-f742-413d-a0e0-4a2cfba9e0ac",
   "metadata": {},
   "outputs": [],
   "source": [
    "alt.drop(columns=['pred_weekly_dose', 'sqrt_weekly_dose']).to_csv('data/clean_nonull.csv', index=False)"
   ]
  },
  {
   "cell_type": "code",
   "execution_count": 60,
   "id": "d7729e06-4b4a-41a3-8a13-7deea15bd516",
   "metadata": {},
   "outputs": [
    {
     "data": {
      "text/plain": [
       "Age in decades                         6.0\n",
       "Height (cm)                         175.26\n",
       "Weight (kg)                          101.2\n",
       "Asian race                             0.0\n",
       "Black or African American race         0.0\n",
       "Missing or mixed race                  0.0\n",
       "Enzyme inducer status                    0\n",
       "Amiodarone status                      0.0\n",
       "VKORC1_SNP                             G/G\n",
       "CYP2C9 consensus                     *1/*1\n",
       "correct_dosage                      medium\n",
       "sqrt_weekly_dose                  5.934148\n",
       "pred_weekly_dose                    medium\n",
       "Name: 2675, dtype: object"
      ]
     },
     "execution_count": 60,
     "metadata": {},
     "output_type": "execute_result"
    }
   ],
   "source": [
    "alt.iloc[2405]"
   ]
  },
  {
   "cell_type": "code",
   "execution_count": 61,
   "id": "c8b432e9-fc5e-4eb5-a9ef-c10401e4d44d",
   "metadata": {},
   "outputs": [
    {
     "data": {
      "text/html": [
       "<div>\n",
       "<style scoped>\n",
       "    .dataframe tbody tr th:only-of-type {\n",
       "        vertical-align: middle;\n",
       "    }\n",
       "\n",
       "    .dataframe tbody tr th {\n",
       "        vertical-align: top;\n",
       "    }\n",
       "\n",
       "    .dataframe thead th {\n",
       "        text-align: right;\n",
       "    }\n",
       "</style>\n",
       "<table border=\"1\" class=\"dataframe\">\n",
       "  <thead>\n",
       "    <tr style=\"text-align: right;\">\n",
       "      <th></th>\n",
       "      <th>Age in decades</th>\n",
       "      <th>Height (cm)</th>\n",
       "      <th>Weight (kg)</th>\n",
       "      <th>Asian race</th>\n",
       "      <th>Black or African American race</th>\n",
       "      <th>Missing or mixed race</th>\n",
       "      <th>Enzyme inducer status</th>\n",
       "      <th>Amiodarone status</th>\n",
       "      <th>VKORC1_SNP</th>\n",
       "      <th>CYP2C9 consensus</th>\n",
       "      <th>correct_dosage</th>\n",
       "      <th>sqrt_weekly_dose</th>\n",
       "      <th>pred_weekly_dose</th>\n",
       "    </tr>\n",
       "  </thead>\n",
       "  <tbody>\n",
       "    <tr>\n",
       "      <th>0</th>\n",
       "      <td>6.0</td>\n",
       "      <td>193.04</td>\n",
       "      <td>115.7</td>\n",
       "      <td>0.0</td>\n",
       "      <td>0.0</td>\n",
       "      <td>0.0</td>\n",
       "      <td>0</td>\n",
       "      <td>0.0</td>\n",
       "      <td>A/G</td>\n",
       "      <td>*1/*1</td>\n",
       "      <td>medium</td>\n",
       "      <td>6.338252</td>\n",
       "      <td>medium</td>\n",
       "    </tr>\n",
       "    <tr>\n",
       "      <th>1</th>\n",
       "      <td>5.0</td>\n",
       "      <td>176.53</td>\n",
       "      <td>144.2</td>\n",
       "      <td>0.0</td>\n",
       "      <td>0.0</td>\n",
       "      <td>0.0</td>\n",
       "      <td>0</td>\n",
       "      <td>0.0</td>\n",
       "      <td>A/A</td>\n",
       "      <td>*1/*1</td>\n",
       "      <td>medium</td>\n",
       "      <td>6.779934</td>\n",
       "      <td>medium</td>\n",
       "    </tr>\n",
       "    <tr>\n",
       "      <th>2</th>\n",
       "      <td>4.0</td>\n",
       "      <td>162.56</td>\n",
       "      <td>77.1</td>\n",
       "      <td>0.0</td>\n",
       "      <td>0.0</td>\n",
       "      <td>0.0</td>\n",
       "      <td>0</td>\n",
       "      <td>0.0</td>\n",
       "      <td>G/G</td>\n",
       "      <td>*1/*1</td>\n",
       "      <td>high</td>\n",
       "      <td>5.970548</td>\n",
       "      <td>medium</td>\n",
       "    </tr>\n",
       "    <tr>\n",
       "      <th>3</th>\n",
       "      <td>6.0</td>\n",
       "      <td>182.24</td>\n",
       "      <td>90.7</td>\n",
       "      <td>0.0</td>\n",
       "      <td>0.0</td>\n",
       "      <td>0.0</td>\n",
       "      <td>0</td>\n",
       "      <td>0.0</td>\n",
       "      <td>A/G</td>\n",
       "      <td>*1/*1</td>\n",
       "      <td>medium</td>\n",
       "      <td>5.875812</td>\n",
       "      <td>medium</td>\n",
       "    </tr>\n",
       "    <tr>\n",
       "      <th>4</th>\n",
       "      <td>5.0</td>\n",
       "      <td>167.64</td>\n",
       "      <td>72.6</td>\n",
       "      <td>0.0</td>\n",
       "      <td>0.0</td>\n",
       "      <td>0.0</td>\n",
       "      <td>0</td>\n",
       "      <td>0.0</td>\n",
       "      <td>A/G</td>\n",
       "      <td>*1/*3</td>\n",
       "      <td>medium</td>\n",
       "      <td>5.715592</td>\n",
       "      <td>medium</td>\n",
       "    </tr>\n",
       "    <tr>\n",
       "      <th>...</th>\n",
       "      <td>...</td>\n",
       "      <td>...</td>\n",
       "      <td>...</td>\n",
       "      <td>...</td>\n",
       "      <td>...</td>\n",
       "      <td>...</td>\n",
       "      <td>...</td>\n",
       "      <td>...</td>\n",
       "      <td>...</td>\n",
       "      <td>...</td>\n",
       "      <td>...</td>\n",
       "      <td>...</td>\n",
       "      <td>...</td>\n",
       "    </tr>\n",
       "    <tr>\n",
       "      <th>5523</th>\n",
       "      <td>2.0</td>\n",
       "      <td>185.42</td>\n",
       "      <td>113.6</td>\n",
       "      <td>0.0</td>\n",
       "      <td>0.0</td>\n",
       "      <td>0.0</td>\n",
       "      <td>0</td>\n",
       "      <td>0.0</td>\n",
       "      <td>unknown</td>\n",
       "      <td>*1/*1</td>\n",
       "      <td>high</td>\n",
       "      <td>7.238596</td>\n",
       "      <td>high</td>\n",
       "    </tr>\n",
       "    <tr>\n",
       "      <th>5524</th>\n",
       "      <td>7.0</td>\n",
       "      <td>160.02</td>\n",
       "      <td>55.9</td>\n",
       "      <td>0.0</td>\n",
       "      <td>0.0</td>\n",
       "      <td>0.0</td>\n",
       "      <td>0</td>\n",
       "      <td>0.0</td>\n",
       "      <td>unknown</td>\n",
       "      <td>*1/*3</td>\n",
       "      <td>medium</td>\n",
       "      <td>4.892696</td>\n",
       "      <td>medium</td>\n",
       "    </tr>\n",
       "    <tr>\n",
       "      <th>5525</th>\n",
       "      <td>6.0</td>\n",
       "      <td>187.96</td>\n",
       "      <td>97.7</td>\n",
       "      <td>0.0</td>\n",
       "      <td>0.0</td>\n",
       "      <td>0.0</td>\n",
       "      <td>0</td>\n",
       "      <td>0.0</td>\n",
       "      <td>unknown</td>\n",
       "      <td>*1/*1</td>\n",
       "      <td>high</td>\n",
       "      <td>6.037108</td>\n",
       "      <td>medium</td>\n",
       "    </tr>\n",
       "    <tr>\n",
       "      <th>5526</th>\n",
       "      <td>6.0</td>\n",
       "      <td>177.8</td>\n",
       "      <td>87.3</td>\n",
       "      <td>0.0</td>\n",
       "      <td>0.0</td>\n",
       "      <td>0.0</td>\n",
       "      <td>0</td>\n",
       "      <td>0.0</td>\n",
       "      <td>unknown</td>\n",
       "      <td>unknown</td>\n",
       "      <td>high</td>\n",
       "      <td>5.777860</td>\n",
       "      <td>medium</td>\n",
       "    </tr>\n",
       "    <tr>\n",
       "      <th>5527</th>\n",
       "      <td>7.0</td>\n",
       "      <td>190.5</td>\n",
       "      <td>79.6</td>\n",
       "      <td>0.0</td>\n",
       "      <td>0.0</td>\n",
       "      <td>0.0</td>\n",
       "      <td>0</td>\n",
       "      <td>0.0</td>\n",
       "      <td>unknown</td>\n",
       "      <td>unknown</td>\n",
       "      <td>medium</td>\n",
       "      <td>5.569940</td>\n",
       "      <td>medium</td>\n",
       "    </tr>\n",
       "  </tbody>\n",
       "</table>\n",
       "<p>4386 rows × 13 columns</p>\n",
       "</div>"
      ],
      "text/plain": [
       "      Age in decades Height (cm) Weight (kg)  Asian race  \\\n",
       "0                6.0      193.04       115.7         0.0   \n",
       "1                5.0      176.53       144.2         0.0   \n",
       "2                4.0      162.56        77.1         0.0   \n",
       "3                6.0      182.24        90.7         0.0   \n",
       "4                5.0      167.64        72.6         0.0   \n",
       "...              ...         ...         ...         ...   \n",
       "5523             2.0      185.42       113.6         0.0   \n",
       "5524             7.0      160.02        55.9         0.0   \n",
       "5525             6.0      187.96        97.7         0.0   \n",
       "5526             6.0       177.8        87.3         0.0   \n",
       "5527             7.0       190.5        79.6         0.0   \n",
       "\n",
       "      Black or African American race  Missing or mixed race  \\\n",
       "0                                0.0                    0.0   \n",
       "1                                0.0                    0.0   \n",
       "2                                0.0                    0.0   \n",
       "3                                0.0                    0.0   \n",
       "4                                0.0                    0.0   \n",
       "...                              ...                    ...   \n",
       "5523                             0.0                    0.0   \n",
       "5524                             0.0                    0.0   \n",
       "5525                             0.0                    0.0   \n",
       "5526                             0.0                    0.0   \n",
       "5527                             0.0                    0.0   \n",
       "\n",
       "      Enzyme inducer status  Amiodarone status VKORC1_SNP CYP2C9 consensus  \\\n",
       "0                         0                0.0        A/G            *1/*1   \n",
       "1                         0                0.0        A/A            *1/*1   \n",
       "2                         0                0.0        G/G            *1/*1   \n",
       "3                         0                0.0        A/G            *1/*1   \n",
       "4                         0                0.0        A/G            *1/*3   \n",
       "...                     ...                ...        ...              ...   \n",
       "5523                      0                0.0    unknown            *1/*1   \n",
       "5524                      0                0.0    unknown            *1/*3   \n",
       "5525                      0                0.0    unknown            *1/*1   \n",
       "5526                      0                0.0    unknown          unknown   \n",
       "5527                      0                0.0    unknown          unknown   \n",
       "\n",
       "     correct_dosage  sqrt_weekly_dose pred_weekly_dose  \n",
       "0            medium          6.338252           medium  \n",
       "1            medium          6.779934           medium  \n",
       "2              high          5.970548           medium  \n",
       "3            medium          5.875812           medium  \n",
       "4            medium          5.715592           medium  \n",
       "...             ...               ...              ...  \n",
       "5523           high          7.238596             high  \n",
       "5524         medium          4.892696           medium  \n",
       "5525           high          6.037108           medium  \n",
       "5526           high          5.777860           medium  \n",
       "5527         medium          5.569940           medium  \n",
       "\n",
       "[4386 rows x 13 columns]"
      ]
     },
     "execution_count": 61,
     "metadata": {},
     "output_type": "execute_result"
    }
   ],
   "source": [
    "alt"
   ]
  },
  {
   "cell_type": "code",
   "execution_count": null,
   "id": "15692a47-28a2-4e29-8ad8-3e86430e9565",
   "metadata": {},
   "outputs": [],
   "source": []
  }
 ],
 "metadata": {
  "kernelspec": {
   "display_name": "Python 3 (ipykernel)",
   "language": "python",
   "name": "python3"
  },
  "language_info": {
   "codemirror_mode": {
    "name": "ipython",
    "version": 3
   },
   "file_extension": ".py",
   "mimetype": "text/x-python",
   "name": "python",
   "nbconvert_exporter": "python",
   "pygments_lexer": "ipython3",
   "version": "3.9.7"
  }
 },
 "nbformat": 4,
 "nbformat_minor": 5
}
