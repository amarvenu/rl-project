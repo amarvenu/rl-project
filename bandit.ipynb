{
 "cells": [
  {
   "cell_type": "code",
   "execution_count": 1,
   "id": "84131307-0a74-4ed3-a212-144e303471fc",
   "metadata": {},
   "outputs": [],
   "source": [
    "import pandas as pd\n",
    "import numpy as np\n",
    "from tqdm import tqdm\n",
    "import matplotlib.pyplot as plt"
   ]
  },
  {
   "cell_type": "code",
   "execution_count": 47,
   "id": "4fba3990-0b9d-4eaf-a4be-410d0175fffb",
   "metadata": {},
   "outputs": [],
   "source": [
    "df = pd.read_csv('data/clean_nonull.csv')\n",
    "\n",
    "df = pd.concat([\n",
    "    df.drop(columns=['VKORC1_SNP']),\n",
    "    pd.get_dummies(df['VKORC1_SNP'], prefix='VKORC1_SNP')\n",
    "], axis=1)\n",
    "\n",
    "df['label'] = df['correct_dosage'].map({'low': 0, 'medium': 1, 'high': 2})"
   ]
  },
  {
   "cell_type": "code",
   "execution_count": 84,
   "id": "23aa9438-1804-4380-b920-ac3bb66ef4d9",
   "metadata": {},
   "outputs": [
    {
     "data": {
      "text/plain": [
       "correct_dosage\n",
       "high       534\n",
       "low       1151\n",
       "medium    2701\n",
       "Name: label, dtype: int64"
      ]
     },
     "execution_count": 84,
     "metadata": {},
     "output_type": "execute_result"
    }
   ],
   "source": [
    "df.groupby('correct_dosage').label.count()"
   ]
  },
  {
   "cell_type": "markdown",
   "id": "a547e827-be95-4065-b396-3b93abd4d265",
   "metadata": {},
   "source": [
    "## UCB1"
   ]
  },
  {
   "cell_type": "code",
   "execution_count": 115,
   "id": "91a07a5f-4e7a-4c7f-851d-980471b028c0",
   "metadata": {},
   "outputs": [
    {
     "name": "stderr",
     "output_type": "stream",
     "text": [
      "100%|██████████████████████████████████████████████████████████████████████████████████████████████████████████████████████████████████████████████████████| 20/20 [05:09<00:00, 15.49s/it]\n"
     ]
    }
   ],
   "source": [
    "np.random.seed(1)\n",
    "\n",
    "B = 20\n",
    "\n",
    "perfs = []\n",
    "for b in tqdm(range(B)):\n",
    "    order = np.random.choice(range(df.shape[0]), size=df.shape[0], replace=False)\n",
    "    X = df.drop(columns=['correct_dosage', 'label']).iloc[order, :].values\n",
    "    y = df['label'].values[order]\n",
    "\n",
    "    chosen_arms = [0] # always sample arm 0 first\n",
    "    rewards = [0 if y[0] == chosen_arms[0] else -1]\n",
    "\n",
    "    delta = 3 / X.shape[0]  # for fixed number of time steps, set delta = |A|/T (lecture 10, slide 49)\n",
    "\n",
    "    for i in range(1, X.shape[0]):\n",
    "\n",
    "        # sample the other two arms, to initialize UCB\n",
    "        if i == 1:\n",
    "            pred_a = 1\n",
    "        elif i == 2:\n",
    "            pred_a = 2\n",
    "        else:\n",
    "            cumul_data = X[:i, :].copy()  # get all of the past data\n",
    "\n",
    "            # add indicators for which of the previous arms was chosen\n",
    "            arm_features = np.zeros((cumul_data.shape[0], 3))\n",
    "\n",
    "            for j, a in enumerate(chosen_arms):\n",
    "                arm_features[j, a] = 1\n",
    "\n",
    "            # concatenate these arm features to our feature vector\n",
    "            X_tmp = np.hstack([cumul_data, arm_features])\n",
    "\n",
    "            # learn the parameters\n",
    "            theta = np.linalg.pinv(X_tmp) @ np.array(rewards)\n",
    "\n",
    "            # candidate_vectors\n",
    "            x_cands = np.stack([\n",
    "                np.hstack([X[i], np.array([1, 0, 0])]),\n",
    "                np.hstack([X[i], np.array([0, 1, 0])]),\n",
    "                np.hstack([X[i], np.array([0, 0, 1])])\n",
    "            ])\n",
    "\n",
    "            chosen_arr = np.array(chosen_arms)\n",
    "\n",
    "            ucb_bonus = np.array([\n",
    "                np.sqrt(2 * np.log(1/delta) / chosen_arr[chosen_arr == a].shape[0])\n",
    "                for a in range(3)\n",
    "            ])\n",
    "\n",
    "            pred_a = (x_cands @ theta + ucb_bonus).argmax()\n",
    "\n",
    "        chosen_arms.append(int(pred_a))\n",
    "        rewards.append(0 if y[i] == int(pred_a) else -1)\n",
    "    \n",
    "    perf = pd.DataFrame({\n",
    "        \"run\": b,\n",
    "        \"predicted_arm\": chosen_arms,\n",
    "        \"observed_reward\": rewards,\n",
    "        \"true_arm\": y,\n",
    "    })\n",
    "\n",
    "    perf['cumulative_accuracy'] = (\n",
    "        perf['predicted_arm'] == perf['true_arm']\n",
    "    ).cumsum() / (perf.index + 1)\n",
    "\n",
    "    perf['cumulative_fixed_baseline_accuracy'] = (\n",
    "        perf['true_arm'] == 1\n",
    "    ).cumsum() / (perf.index + 1)\n",
    "\n",
    "    perf['cumulative_regret'] = -1 * perf['observed_reward'].cumsum()\n",
    "\n",
    "    perf['cumulative_fixed_baseline_regret'] = -1 * np.where(\n",
    "        perf['true_arm'] == 1,\n",
    "        0,\n",
    "        -1\n",
    "    ).cumsum()\n",
    "    \n",
    "    perfs.append(perf)\n",
    "\n",
    "ucb1_performances = pd.concat(perfs)\n",
    "ucb1_performances['t'] = ucb1_performances.index"
   ]
  },
  {
   "cell_type": "code",
   "execution_count": 132,
   "id": "75c2e378-2662-419e-b13a-dfbe3be4946a",
   "metadata": {},
   "outputs": [],
   "source": [
    "ucb1_grouped = grouped.copy()"
   ]
  },
  {
   "cell_type": "code",
   "execution_count": 124,
   "id": "207837ad-0296-4384-bf9d-a6134618a96c",
   "metadata": {},
   "outputs": [
    {
     "data": {
      "text/plain": [
       "<AxesSubplot:xlabel='t'>"
      ]
     },
     "execution_count": 124,
     "metadata": {},
     "output_type": "execute_result"
    },
    {
     "data": {
      "image/png": "[encoded data removed]",
      "text/plain": [
       "<Figure size 432x288 with 1 Axes>"
      ]
     },
     "metadata": {
      "needs_background": "light"
     },
     "output_type": "display_data"
    }
   ],
   "source": [
    "ucb1_grouped = ucb1_performances.groupby('t')[[\n",
    "    'cumulative_accuracy', 'cumulative_fixed_baseline_accuracy',\n",
    "    'cumulative_regret', 'cumulative_fixed_baseline_regret'\n",
    "]].mean()    \n",
    "\n",
    "ucb1_grouped[[\n",
    "    'cumulative_accuracy',\n",
    "    'cumulative_fixed_baseline_accuracy'\n",
    "]].plot()"
   ]
  },
  {
   "cell_type": "code",
   "execution_count": 125,
   "id": "e0e5fa80-16d5-4530-bac6-5466f2d2801d",
   "metadata": {},
   "outputs": [
    {
     "data": {
      "text/plain": [
       "<AxesSubplot:xlabel='t'>"
      ]
     },
     "execution_count": 125,
     "metadata": {},
     "output_type": "execute_result"
    },
    {
     "data": {
      "image/png": "[encoded data removed]",
      "text/plain": [
       "<Figure size 432x288 with 1 Axes>"
      ]
     },
     "metadata": {
      "needs_background": "light"
     },
     "output_type": "display_data"
    }
   ],
   "source": [
    "ucb1_grouped[[\n",
    "    'cumulative_regret',\n",
    "    'cumulative_fixed_baseline_regret'\n",
    "]].plot()"
   ]
  },
  {
   "cell_type": "markdown",
   "id": "339c6526-f4e9-4f9a-8e8b-9f5ac87ecfdb",
   "metadata": {},
   "source": [
    "## decaying $\\epsilon$-greedy"
   ]
  },
  {
   "cell_type": "code",
   "execution_count": 129,
   "id": "210dee88-f636-4858-a60e-4d8c21d21307",
   "metadata": {},
   "outputs": [],
   "source": [
    "start_eps = 0.2\n",
    "end_eps = 1\n",
    "\n",
    "step_size = (end_eps - start_eps) / X.shape[0]\n",
    "\n",
    "eps_vals = [start_eps + i * step_size for i in range(X.shape[0])]"
   ]
  },
  {
   "cell_type": "code",
   "execution_count": 131,
   "id": "b7ee33ce-2e18-4f87-9e0f-a8c4e9a8fb83",
   "metadata": {},
   "outputs": [
    {
     "name": "stderr",
     "output_type": "stream",
     "text": [
      "100%|██████████████████████████████████████████████████████████████████████████████████████████████████████████████████████████████████████████████████████| 20/20 [05:01<00:00, 15.08s/it]\n"
     ]
    }
   ],
   "source": [
    "np.random.seed(1)\n",
    "\n",
    "B = 20\n",
    "\n",
    "perfs = []\n",
    "for b in tqdm(range(B)):\n",
    "    order = np.random.choice(range(df.shape[0]), size=df.shape[0], replace=False)\n",
    "    X = df.drop(columns=['correct_dosage', 'label']).iloc[order, :].values\n",
    "    y = df['label'].values[order]\n",
    "\n",
    "    chosen_arms = [np.random.randint(3)] # start with a random sample\n",
    "    rewards = [0 if y[0] == chosen_arms[0] else -1]\n",
    "\n",
    "    for i in range(1, X.shape[0]):\n",
    "        cumul_data = X[:i, :].copy()  # get all of the past data\n",
    "\n",
    "        # add indicators for which of the previous arms was chosen\n",
    "        arm_features = np.zeros((cumul_data.shape[0], 3))\n",
    "\n",
    "        for j, a in enumerate(chosen_arms):\n",
    "            arm_features[j, a] = 1\n",
    "\n",
    "        # concatenate these arm features to our feature vector\n",
    "        X_tmp = np.hstack([cumul_data, arm_features])\n",
    "\n",
    "        # learn the parameters\n",
    "        theta = np.linalg.pinv(X_tmp) @ np.array(rewards)\n",
    "\n",
    "        # candidate_vectors\n",
    "        x_cands = np.stack([\n",
    "            np.hstack([X[i], np.array([1, 0, 0])]),\n",
    "            np.hstack([X[i], np.array([0, 1, 0])]),\n",
    "            np.hstack([X[i], np.array([0, 0, 1])])\n",
    "        ])\n",
    "\n",
    "        chosen_arr = np.array(chosen_arms)\n",
    "\n",
    "        max_a = (x_cands @ theta).argmax()\n",
    "        \n",
    "        # choose the argmax w prob e, random w prob 1-e\n",
    "        pred_a = max_a if np.random.uniform(0,1) < eps_vals[i] else np.random.randint(3)\n",
    "\n",
    "        chosen_arms.append(int(pred_a))\n",
    "        rewards.append(0 if y[i] == int(pred_a) else -1)\n",
    "    \n",
    "    perf = pd.DataFrame({\n",
    "        \"run\": b,\n",
    "        \"predicted_arm\": chosen_arms,\n",
    "        \"observed_reward\": rewards,\n",
    "        \"true_arm\": y,\n",
    "    })\n",
    "\n",
    "    perf['cumulative_accuracy'] = (\n",
    "        perf['predicted_arm'] == perf['true_arm']\n",
    "    ).cumsum() / (perf.index + 1)\n",
    "\n",
    "    perf['cumulative_fixed_baseline_accuracy'] = (\n",
    "        perf['true_arm'] == 1\n",
    "    ).cumsum() / (perf.index + 1)\n",
    "\n",
    "    perf['cumulative_regret'] = -1 * perf['observed_reward'].cumsum()\n",
    "\n",
    "    perf['cumulative_fixed_baseline_regret'] = -1 * np.where(\n",
    "        perf['true_arm'] == 1,\n",
    "        0,\n",
    "        -1\n",
    "    ).cumsum()\n",
    "    \n",
    "    perfs.append(perf)\n",
    "\n",
    "egreedy_performances = pd.concat(perfs)\n",
    "egreedy_performances['t'] = egreedy_performances.index"
   ]
  },
  {
   "cell_type": "code",
   "execution_count": 133,
   "id": "ecb35ed7-f880-4735-8a82-23c400b8aab1",
   "metadata": {},
   "outputs": [
    {
     "data": {
      "text/plain": [
       "<AxesSubplot:xlabel='t'>"
      ]
     },
     "execution_count": 133,
     "metadata": {},
     "output_type": "execute_result"
    },
    {
     "data": {
      "image/png": "[encoded data removed]",
      "text/plain": [
       "<Figure size 432x288 with 1 Axes>"
      ]
     },
     "metadata": {
      "needs_background": "light"
     },
     "output_type": "display_data"
    }
   ],
   "source": [
    "egreedy_grouped = egreedy_performances.groupby('t')[[\n",
    "    'cumulative_accuracy', 'cumulative_fixed_baseline_accuracy',\n",
    "    'cumulative_regret', 'cumulative_fixed_baseline_regret'\n",
    "]].mean()    \n",
    "\n",
    "egreedy_grouped[[\n",
    "    'cumulative_accuracy',\n",
    "    'cumulative_fixed_baseline_accuracy'\n",
    "]].plot()"
   ]
  },
  {
   "cell_type": "code",
   "execution_count": 134,
   "id": "efef2154-691e-4113-895c-b90a53a674a3",
   "metadata": {},
   "outputs": [
    {
     "data": {
      "text/plain": [
       "<AxesSubplot:xlabel='t'>"
      ]
     },
     "execution_count": 134,
     "metadata": {},
     "output_type": "execute_result"
    },
    {
     "data": {
      "image/png": "[encoded data removed]",
      "text/plain": [
       "<Figure size 432x288 with 1 Axes>"
      ]
     },
     "metadata": {
      "needs_background": "light"
     },
     "output_type": "display_data"
    }
   ],
   "source": [
    "egreedy_grouped[[\n",
    "    'cumulative_regret',\n",
    "    'cumulative_fixed_baseline_regret'\n",
    "]].plot()"
   ]
  },
  {
   "cell_type": "markdown",
   "id": "e472b599-6ba2-475f-a6c5-d92b37b49675",
   "metadata": {},
   "source": [
    "## try UCB with disjoint $\\theta$\n",
    "\n",
    "### this is not really working yet, needs more thought..."
   ]
  },
  {
   "cell_type": "code",
   "execution_count": 146,
   "id": "0b00ce53-c8ae-489f-96a3-c16e0bf49103",
   "metadata": {},
   "outputs": [
    {
     "name": "stderr",
     "output_type": "stream",
     "text": [
      "100%|█████████████████████████████████████████████████████████████████████████████████████████████████████████████████████████████████████████████████| 4385/4385 [00:20<00:00, 211.40it/s]\n"
     ]
    }
   ],
   "source": [
    "np.random.seed(1)\n",
    "\n",
    "B = 1\n",
    "\n",
    "perfs = []\n",
    "for b in range(B):\n",
    "    order = np.random.choice(range(df.shape[0]), size=df.shape[0], replace=False)\n",
    "    X = df.drop(columns=['correct_dosage', 'label']).iloc[order, :].values\n",
    "    y = df['label'].values[order]\n",
    "\n",
    "    chosen_arms = [0] # always sample arm 0 first\n",
    "    rewards = [0 if y[0] == chosen_arms[0] else -1]\n",
    "\n",
    "    delta = 3 / X.shape[0]  # for fixed number of time steps, set delta = |A|/T (lecture 10, slide 49)\n",
    "\n",
    "    for i in tqdm(range(1, X.shape[0])):\n",
    "\n",
    "        # sample the other two arms, to initialize UCB\n",
    "        if i == 1:\n",
    "            pred_a = 1\n",
    "        elif i == 2:\n",
    "            pred_a = 2\n",
    "        else:\n",
    "            cumul_data = X[:i, :].copy()  # get all of the past data\n",
    "\n",
    "            # add indicators for which of the previous arms was chosen\n",
    "            arm_features = np.zeros((cumul_data.shape[0], 3))\n",
    "\n",
    "            for j, a in enumerate(chosen_arms):\n",
    "                arm_features[j, a] = 1\n",
    "\n",
    "            # concatenate these arm features to our feature vector\n",
    "            X_tmp = np.hstack([cumul_data, arm_features])\n",
    "\n",
    "            # learn the parameters\n",
    "            thetas = []\n",
    "            for a in range(3):\n",
    "                past_run_idxs = [k for k in chosen_arms if k == a]\n",
    "                sub_x = cumul_data[past_run_idxs]\n",
    "                sub_y = np.array(rewards)[past_run_idxs]\n",
    "                \n",
    "                thetas.append(np.linalg.pinv(sub_x) @ np.array(sub_y))\n",
    "                \n",
    "\n",
    "            # candidate_vectors\n",
    "            x_cands = np.repeat(np.expand_dims(X[i], axis=0), repeats=3, axis=0)\n",
    "\n",
    "            vals = np.diag(x_cands @ np.stack(thetas).T)\n",
    "            \n",
    "            chosen_arr = np.array(chosen_arms)\n",
    "\n",
    "            ucb_bonus = np.array([\n",
    "                np.sqrt(2 * np.log(1/delta) / chosen_arr[chosen_arr == a].shape[0])\n",
    "                for a in range(3)\n",
    "            ])\n",
    "\n",
    "            pred_a = (vals + ucb_bonus).argmax()\n",
    "\n",
    "        chosen_arms.append(int(pred_a))\n",
    "        rewards.append(0 if y[i] == int(pred_a) else -1)\n",
    "    \n",
    "    perf = pd.DataFrame({\n",
    "        \"run\": b,\n",
    "        \"predicted_arm\": chosen_arms,\n",
    "        \"observed_reward\": rewards,\n",
    "        \"true_arm\": y,\n",
    "    })\n",
    "\n",
    "    perf['cumulative_accuracy'] = (\n",
    "        perf['predicted_arm'] == perf['true_arm']\n",
    "    ).cumsum() / (perf.index + 1)\n",
    "\n",
    "    perf['cumulative_fixed_baseline_accuracy'] = (\n",
    "        perf['true_arm'] == 1\n",
    "    ).cumsum() / (perf.index + 1)\n",
    "\n",
    "    perf['cumulative_regret'] = -1 * perf['observed_reward'].cumsum()\n",
    "\n",
    "    perf['cumulative_fixed_baseline_regret'] = -1 * np.where(\n",
    "        perf['true_arm'] == 1,\n",
    "        0,\n",
    "        -1\n",
    "    ).cumsum()\n",
    "    \n",
    "    perfs.append(perf)\n",
    "\n",
    "ucb1_performances = pd.concat(perfs)\n",
    "ucb1_performances['t'] = ucb1_performances.index"
   ]
  },
  {
   "cell_type": "code",
   "execution_count": null,
   "id": "3708b8b4-cad8-4981-aa8e-750c221bf717",
   "metadata": {},
   "outputs": [],
   "source": []
  }
 ],
 "metadata": {
  "kernelspec": {
   "display_name": "Python 3 (ipykernel)",
   "language": "python",
   "name": "python3"
  },
  "language_info": {
   "codemirror_mode": {
    "name": "ipython",
    "version": 3
   },
   "file_extension": ".py",
   "mimetype": "text/x-python",
   "name": "python",
   "nbconvert_exporter": "python",
   "pygments_lexer": "ipython3",
   "version": "3.9.7"
  }
 },
 "nbformat": 4,
 "nbformat_minor": 5
}
