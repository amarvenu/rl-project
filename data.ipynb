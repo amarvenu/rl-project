{
 "cells": [
  {
   "cell_type": "code",
   "execution_count": 1,
   "id": "7c240552-73fe-4c5d-9230-d4ac7e0a1a93",
   "metadata": {},
   "outputs": [],
   "source": [
    "import pandas as pd\n",
    "import numpy as np"
   ]
  },
  {
   "cell_type": "code",
   "execution_count": 2,
   "id": "030a8f18-840b-4358-b814-889304a14ec4",
   "metadata": {},
   "outputs": [],
   "source": [
    "df = pd.read_csv('data/warfarin.csv').dropna(\n",
    "    subset=['Therapeutic Dose of Warfarin']\n",
    ").dropna(how='all', axis=1).fillna('unknown').copy()\n",
    "df['correct_dosage'] = np.where(\n",
    "    df['Therapeutic Dose of Warfarin'] < 21,\n",
    "    'low',\n",
    "    np.where(\n",
    "        df['Therapeutic Dose of Warfarin'] > 49,\n",
    "        'high',\n",
    "        'medium'\n",
    "    )\n",
    ")"
   ]
  },
  {
   "cell_type": "code",
   "execution_count": 3,
   "id": "4370e618-9f47-4940-8bb2-62d7ef791a77",
   "metadata": {},
   "outputs": [
    {
     "data": {
      "text/html": [
       "<div>\n",
       "<style scoped>\n",
       "    .dataframe tbody tr th:only-of-type {\n",
       "        vertical-align: middle;\n",
       "    }\n",
       "\n",
       "    .dataframe tbody tr th {\n",
       "        vertical-align: top;\n",
       "    }\n",
       "\n",
       "    .dataframe thead th {\n",
       "        text-align: right;\n",
       "    }\n",
       "</style>\n",
       "<table border=\"1\" class=\"dataframe\">\n",
       "  <thead>\n",
       "    <tr style=\"text-align: right;\">\n",
       "      <th></th>\n",
       "      <th>count</th>\n",
       "      <th>mean</th>\n",
       "      <th>std</th>\n",
       "      <th>min</th>\n",
       "      <th>25%</th>\n",
       "      <th>50%</th>\n",
       "      <th>75%</th>\n",
       "      <th>max</th>\n",
       "    </tr>\n",
       "    <tr>\n",
       "      <th>correct_dosage</th>\n",
       "      <th></th>\n",
       "      <th></th>\n",
       "      <th></th>\n",
       "      <th></th>\n",
       "      <th></th>\n",
       "      <th></th>\n",
       "      <th></th>\n",
       "      <th></th>\n",
       "    </tr>\n",
       "  </thead>\n",
       "  <tbody>\n",
       "    <tr>\n",
       "      <th>high</th>\n",
       "      <td>651.0</td>\n",
       "      <td>63.769478</td>\n",
       "      <td>18.358180</td>\n",
       "      <td>49.42</td>\n",
       "      <td>52.50</td>\n",
       "      <td>59.500</td>\n",
       "      <td>70.0</td>\n",
       "      <td>315.00</td>\n",
       "    </tr>\n",
       "    <tr>\n",
       "      <th>low</th>\n",
       "      <td>1495.0</td>\n",
       "      <td>14.447819</td>\n",
       "      <td>4.031703</td>\n",
       "      <td>2.10</td>\n",
       "      <td>11.25</td>\n",
       "      <td>15.000</td>\n",
       "      <td>17.5</td>\n",
       "      <td>20.75</td>\n",
       "    </tr>\n",
       "    <tr>\n",
       "      <th>medium</th>\n",
       "      <td>3382.0</td>\n",
       "      <td>31.972874</td>\n",
       "      <td>7.785291</td>\n",
       "      <td>21.00</td>\n",
       "      <td>25.00</td>\n",
       "      <td>31.275</td>\n",
       "      <td>37.5</td>\n",
       "      <td>49.00</td>\n",
       "    </tr>\n",
       "  </tbody>\n",
       "</table>\n",
       "</div>"
      ],
      "text/plain": [
       "                 count       mean        std    min    25%     50%   75%  \\\n",
       "correct_dosage                                                             \n",
       "high             651.0  63.769478  18.358180  49.42  52.50  59.500  70.0   \n",
       "low             1495.0  14.447819   4.031703   2.10  11.25  15.000  17.5   \n",
       "medium          3382.0  31.972874   7.785291  21.00  25.00  31.275  37.5   \n",
       "\n",
       "                   max  \n",
       "correct_dosage          \n",
       "high            315.00  \n",
       "low              20.75  \n",
       "medium           49.00  "
      ]
     },
     "execution_count": 3,
     "metadata": {},
     "output_type": "execute_result"
    }
   ],
   "source": [
    "df.groupby('correct_dosage')['Therapeutic Dose of Warfarin'].describe()"
   ]
  },
  {
   "cell_type": "code",
   "execution_count": 4,
   "id": "0ed23e9e-4296-4a0d-bff0-1a1ac5f57c97",
   "metadata": {},
   "outputs": [],
   "source": [
    "def impute_vkorc1(x):\n",
    "    if x['VKORC1 -1639 consensus'] == 'unknown':\n",
    "        dict_map = {'C/C': 'G/G', 'T/T': 'A/A', 'C/T': 'A/G'}\n",
    "        if x['Race'] not in ['Black or African American', 'Unknown']:\n",
    "            if x['VKORC1 2255 consensus'] in dict_map:  # rs2359612\n",
    "                return dict_map[x['VKORC1 2255 consensus']]\n",
    "            \n",
    "        if x['VKORC1 1173 consensus'] in dict_map:  # rs9934438\n",
    "            return dict_map[x['VKORC1 1173 consensus']]\n",
    "        \n",
    "        if x['Race'] not in ['Black or African American', 'Unknown']:\n",
    "            dict_map = {'G/G': 'G/G', 'C/C': 'A/A', 'C/G': 'A/G'}\n",
    "            if x['VKORC1 1542 consensus'] in dict_map:  # rs8050894\n",
    "                return dict_map[x['VKORC1 1542 consensus']]\n",
    "            \n",
    "    return x['VKORC1 -1639 consensus'] # if known or unimputable, do not change"
   ]
  },
  {
   "cell_type": "code",
   "execution_count": 5,
   "id": "83ca3702-cf75-43e1-92cb-8936ea93e539",
   "metadata": {},
   "outputs": [],
   "source": [
    "df['VKORC1_SNP'] = df.apply(lambda x: impute_vkorc1(x), axis=1)"
   ]
  },
  {
   "cell_type": "code",
   "execution_count": 6,
   "id": "cdab8ff7-6ead-4dee-a50e-ae7e5dd76608",
   "metadata": {},
   "outputs": [
    {
     "data": {
      "text/plain": [
       "['VKORC1 genotype: -1639 G>A (3673); chr16:31015190; rs9923231; C/T',\n",
       " 'VKORC1 QC genotype: -1639 G>A (3673); chr16:31015190; rs9923231; C/T',\n",
       " 'VKORC1 genotype: 497T>G (5808); chr16:31013055; rs2884737; A/C',\n",
       " 'VKORC1 QC genotype: 497T>G (5808); chr16:31013055; rs2884737; A/C',\n",
       " 'VKORC1 genotype: 1173 C>T(6484); chr16:31012379; rs9934438; A/G',\n",
       " 'VKORC1 QC genotype: 1173 C>T(6484); chr16:31012379; rs9934438; A/G',\n",
       " 'VKORC1 genotype: 1542G>C (6853); chr16:31012010; rs8050894; C/G',\n",
       " 'VKORC1 QC genotype: 1542G>C (6853); chr16:31012010; rs8050894; C/G',\n",
       " 'VKORC1 genotype: 3730 G>A (9041); chr16:31009822; rs7294;  A/G',\n",
       " 'VKORC1 QC genotype: 3730 G>A (9041); chr16:31009822; rs7294;  A/G',\n",
       " 'VKORC1 genotype: 2255C>T (7566); chr16:31011297; rs2359612; A/G',\n",
       " 'VKORC1 QC genotype: 2255C>T (7566); chr16:31011297; rs2359612; A/G',\n",
       " 'VKORC1 genotype: -4451 C>A (861); Chr16:31018002; rs17880887; A/C',\n",
       " 'VKORC1 QC genotype: -4451 C>A (861); Chr16:31018002; rs17880887; A/C',\n",
       " 'VKORC1 -1639 consensus',\n",
       " 'VKORC1 497 consensus',\n",
       " 'VKORC1 1173 consensus',\n",
       " 'VKORC1 1542 consensus',\n",
       " 'VKORC1 3730 consensus',\n",
       " 'VKORC1 2255 consensus',\n",
       " 'VKORC1 -4451 consensus',\n",
       " 'Cyp2C9 genotypes',\n",
       " 'Genotyped QC Cyp2C9*2',\n",
       " 'Genotyped QC Cyp2C9*3',\n",
       " 'Combined QC CYP2C9']"
      ]
     },
     "execution_count": 6,
     "metadata": {},
     "output_type": "execute_result"
    }
   ],
   "source": [
    "ignore_cols = [\n",
    "    x for x in df.columns if x.startswith('VKORC1') and (x != 'VKORC1_SNP')\n",
    "] + [\n",
    "    x for x in df.columns if ('CYP2C9' in x.upper()) and (x != 'CYP2C9 consensus')\n",
    "]\n",
    "\n",
    "ignore_cols"
   ]
  },
  {
   "cell_type": "code",
   "execution_count": 7,
   "id": "d6f22935-6502-4ce5-b509-816b182c32fa",
   "metadata": {},
   "outputs": [
    {
     "data": {
      "text/plain": [
       "Index(['PharmGKB Subject ID', 'Gender', 'Race', 'Ethnicity', 'Age',\n",
       "       'Height (cm)', 'Weight (kg)', 'Indication for Warfarin Treatment',\n",
       "       'Comorbidities', 'Diabetes',\n",
       "       'Congestive Heart Failure and/or Cardiomyopathy', 'Valve Replacement',\n",
       "       'Medications', 'Aspirin', 'Acetaminophen or Paracetamol (Tylenol)',\n",
       "       'Was Dose of Acetaminophen or Paracetamol (Tylenol) >1300mg/day',\n",
       "       'Simvastatin (Zocor)', 'Atorvastatin (Lipitor)', 'Fluvastatin (Lescol)',\n",
       "       'Lovastatin (Mevacor)', 'Pravastatin (Pravachol)',\n",
       "       'Rosuvastatin (Crestor)', 'Cerivastatin (Baycol)',\n",
       "       'Amiodarone (Cordarone)', 'Carbamazepine (Tegretol)',\n",
       "       'Phenytoin (Dilantin)', 'Rifampin or Rifampicin',\n",
       "       'Sulfonamide Antibiotics', 'Macrolide Antibiotics',\n",
       "       'Anti-fungal Azoles', 'Herbal Medications, Vitamins, Supplements',\n",
       "       'Target INR', 'Estimated Target INR Range Based on Indication',\n",
       "       'Subject Reached Stable Dose of Warfarin',\n",
       "       'Therapeutic Dose of Warfarin',\n",
       "       'INR on Reported Therapeutic Dose of Warfarin', 'Current Smoker',\n",
       "       'CYP2C9 consensus', 'correct_dosage', 'VKORC1_SNP'],\n",
       "      dtype='object')"
      ]
     },
     "execution_count": 7,
     "metadata": {},
     "output_type": "execute_result"
    }
   ],
   "source": [
    "df.drop(columns=ignore_cols).columns"
   ]
  },
  {
   "cell_type": "code",
   "execution_count": 59,
   "id": "ae4c12cd-c8cc-481b-a51c-b1d0bcf71cf2",
   "metadata": {},
   "outputs": [],
   "source": [
    "df.drop(columns=ignore_cols).to_csv('data/data_clean.csv', index=False)"
   ]
  },
  {
   "cell_type": "code",
   "execution_count": null,
   "id": "2d3422f2-c6ec-4473-85a5-d3c2cbbc182d",
   "metadata": {},
   "outputs": [],
   "source": []
  }
 ],
 "metadata": {
  "kernelspec": {
   "display_name": "Python 3 (ipykernel)",
   "language": "python",
   "name": "python3"
  },
  "language_info": {
   "codemirror_mode": {
    "name": "ipython",
    "version": 3
   },
   "file_extension": ".py",
   "mimetype": "text/x-python",
   "name": "python",
   "nbconvert_exporter": "python",
   "pygments_lexer": "ipython3",
   "version": "3.9.7"
  }
 },
 "nbformat": 4,
 "nbformat_minor": 5
}
